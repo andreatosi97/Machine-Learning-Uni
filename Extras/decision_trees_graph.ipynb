{
  "cells": [
    {
      "cell_type": "markdown",
      "metadata": {
        "id": "TqS-CQDjs4BY"
      },
      "source": [
        "A basic example of usage of Decision trees. "
      ]
    },
    {
      "cell_type": "code",
      "execution_count": null,
      "metadata": {
        "colab": {
          "base_uri": "https://localhost:8080/",
          "height": 1000
        },
        "id": "Nol0IP9sxSYo",
        "outputId": "3d288ff5-0f3b-4d4e-8172-d95046332400"
      },
      "outputs": [],
      "source": [
        "from sklearn.datasets import load_iris\n",
        "from sklearn import tree\n",
        "import graphviz \n",
        "\n",
        "iris = load_iris()\n",
        "X, y = iris.data, iris.target\n",
        "print(\"(RMK: Graph below, before there's a dataset description)\\n\")\n",
        "print(iris.DESCR)\n",
        "\n",
        "clf = tree.DecisionTreeClassifier(criterion='entropy')\n",
        "# options to control the complexity of the tree while learning\n",
        "# clf = tree.DecisionTreeClassifier(criterion='entropy', min_samples_leaf=2, max_depth=4)\n",
        "\n",
        "clf.fit(X, y)\n",
        "\n",
        "dot_data = tree.export_graphviz(clf, out_file=None, \n",
        "                      feature_names=iris.feature_names,  \n",
        "                      class_names=iris.target_names,  \n",
        "                      filled=True, rounded=True,  \n",
        "                      special_characters=True)  \n",
        "graph = graphviz.Source(dot_data)  \n",
        "graph "
      ]
    }
  ],
  "metadata": {
    "colab": {
      "provenance": []
    },
    "kernelspec": {
      "display_name": "Python 3",
      "name": "python3"
    },
    "language_info": {
      "codemirror_mode": {
        "name": "ipython",
        "version": 3
      },
      "file_extension": ".py",
      "mimetype": "text/x-python",
      "name": "python",
      "nbconvert_exporter": "python",
      "pygments_lexer": "ipython3",
      "version": "3.11.3"
    }
  },
  "nbformat": 4,
  "nbformat_minor": 0
}
